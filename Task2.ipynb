{
 "cells": [
  {
   "cell_type": "code",
   "execution_count": 173,
   "id": "4fc48965-8eb8-4627-824c-115e467f45be",
   "metadata": {},
   "outputs": [],
   "source": [
    "class Employee:\n",
    " company_name= \"SIT\"\n",
    " def __init__(self,name,department,role):\n",
    "    self.firstn = name\n",
    "    self.dept = department\n",
    "    self.role = role\n",
    "     \n",
    " def firstmethod(self):\n",
    "     print(f\"Name is {self.firstn} from the department of {self.dept}\")\n",
    "     \n",
    " def secmethod(self):\n",
    "     print(f\"Name is {self.firstn} and the role is {self.role}\")"
   ]
  },
  {
   "cell_type": "code",
   "execution_count": 174,
   "id": "4f56e593-636e-4c75-860c-49a73aa28760",
   "metadata": {},
   "outputs": [],
   "source": [
    "class Developer(Employee):\n",
    "    def __init__(self,name,department,role,location):\n",
    "        super().__init__(name,department,role)\n",
    "        self.loc = location\n",
    "    def secmethod(self):\n",
    "        print(f\"Name is {self.firstn} and the role is {self.role} from {self.loc} location\")"
   ]
  },
  {
   "cell_type": "code",
   "execution_count": 175,
   "id": "9a861497-df33-4fc5-a11a-eb75a4a44814",
   "metadata": {},
   "outputs": [],
   "source": [
    "class Admin(Employee):\n",
    "    def __init__(self,name,department,role,experience):\n",
    "        super().__init__(name, department, role)\n",
    "        self.exp= experience\n",
    "\n",
    "    def secmethod(self):\n",
    "         print(f\"Name is {self.firstn} and the role is {self.role}, with experience of {self.exp} years\")   "
   ]
  },
  {
   "cell_type": "code",
   "execution_count": 176,
   "id": "98b0f8b3-0f81-46cf-ac93-0f80413c70a5",
   "metadata": {},
   "outputs": [
    {
     "name": "stdout",
     "output_type": "stream",
     "text": [
      "Name is Akil from the department of IT\n",
      "Name is Akil and the role is Devops from chennai location\n",
      "Name is Kapil from the department of Administration\n",
      "Name is Kapil and the role is Admin, with experience of 8 years\n",
      "Verizon\n"
     ]
    }
   ],
   "source": [
    "dev= Developer(\"Akil\",\"IT\",\"Devops\", \"chennai\")\n",
    "Adm = Admin(\"Kapil\", \"Administration\",\"Admin\", 8)\n",
    "\n",
    "dev.firstmethod()\n",
    "dev.secmethod()\n",
    "Adm.firstmethod()\n",
    "Adm.secmethod()\n",
    "dev.company_name = \"Verizon\"\n",
    "print(dev.company_name)"
   ]
  },
  {
   "cell_type": "code",
   "execution_count": 177,
   "id": "61bcaaef-f69d-4226-b8bf-9df09434f5e5",
   "metadata": {},
   "outputs": [
    {
     "name": "stdout",
     "output_type": "stream",
     "text": [
      "['Chennai', 'Banglore', 'Kochi', 'Delhi', 'Gujarat', 'Chandigarh']\n"
     ]
    }
   ],
   "source": [
    "primary_loc = [\"Chennai\", \"Banglore\", \"Kochi\"]\n",
    "secondary_loc = [\"Delhi\", \"Gujarat\", \"Chandigarh\"]\n",
    "print(primary_loc + secondary_loc)\n",
    "#add = dev.secmethod(),+ Adm.secmethod()\n",
    "#print(add)  "
   ]
  },
  {
   "cell_type": "code",
   "execution_count": null,
   "id": "72cf3829-2c1c-4ac0-8f70-c152268a2a5b",
   "metadata": {},
   "outputs": [],
   "source": []
  }
 ],
 "metadata": {
  "kernelspec": {
   "display_name": "Python 3 (ipykernel)",
   "language": "python",
   "name": "python3"
  },
  "language_info": {
   "codemirror_mode": {
    "name": "ipython",
    "version": 3
   },
   "file_extension": ".py",
   "mimetype": "text/x-python",
   "name": "python",
   "nbconvert_exporter": "python",
   "pygments_lexer": "ipython3",
   "version": "3.13.1"
  }
 },
 "nbformat": 4,
 "nbformat_minor": 5
}
