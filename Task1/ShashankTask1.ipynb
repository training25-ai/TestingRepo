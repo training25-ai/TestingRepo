{
 "cells": [
  {
   "cell_type": "code",
   "execution_count": 1,
   "id": "9d8c2fd7-78bf-4893-b061-5d538c39daab",
   "metadata": {},
   "outputs": [
    {
     "name": "stdout",
     "output_type": "stream",
     "text": [
      "Name: Shashank, ID: 165, Position: Business Analyst\n",
      "Name: Jagan M, ID: 156, Position: Developer, Programming Languages: XML, JavaScript, JSON\n",
      "Name: Abinesh, ID: 137, Position: Admin, Department: QA\n",
      "Combined Employee IDs: 365\n"
     ]
    }
   ],
   "source": [
    "class Employee:\n",
    "    # Class variable\n",
    "    company_name = \"Salem Infotech pvt ltd.\"\n",
    "\n",
    "    def __init__(self, name, employee_id, position):\n",
    "        self.name = name\n",
    "        self.employee_id = employee_id\n",
    "        self.position = position\n",
    "\n",
    "    def display_details(self):\n",
    "        return f\"Name: {self.name}, ID: {self.employee_id}, Position: {self.position}\"\n",
    "\n",
    "    def __str__(self):\n",
    "        return f\"Employee({self.name}, {self.employee_id}, {self.position})\"\n",
    "\n",
    "\n",
    "# Developer subclass with overridden method\n",
    "class Developer(Employee):\n",
    "    def __init__(self, name, employee_id, programming_languages):\n",
    "        super().__init__(name, employee_id, position=\"Developer\")\n",
    "        self.programming_languages = programming_languages\n",
    "\n",
    "    def display_details(self):\n",
    "        details = super().display_details()\n",
    "        return f\"{details}, Programming Languages: {', '.join(self.programming_languages)}\"\n",
    "\n",
    "\n",
    "# Admin subclass with overridden method\n",
    "class Admin(Employee):\n",
    "    def __init__(self, name, employee_id, department):\n",
    "        super().__init__(name, employee_id, position=\"Admin\")\n",
    "        self.department = department\n",
    "\n",
    "    def display_details(self):\n",
    "        details = super().display_details()\n",
    "        return f\"{details}, Department: {self.department}\"\n",
    "\n",
    "\n",
    "# Operator Overloading: Adding employee IDs\n",
    "class EmployeeWithOverload(Employee):\n",
    "    def __init__(self, name, employee_id, position):\n",
    "        super().__init__(name, employee_id, position)\n",
    "\n",
    "    def __add__(self, other):\n",
    "        if isinstance(other, EmployeeWithOverload):\n",
    "            return self.employee_id + other.employee_id\n",
    "        raise TypeError(\"Addition is supported only between Employee objects.\")\n",
    "\n",
    "\n",
    "# Usage\n",
    "if __name__ == \"__main__\":\n",
    "    # Parent class\n",
    "    emp = Employee(\"Shashank\", 165, \"Business Analyst\")\n",
    "    print(emp.display_details())\n",
    "\n",
    "    # Developer subclass\n",
    "    dev = Developer(\"Jagan M\", 156, [\"XML\", \"JavaScript\", \"JSON\"])\n",
    "    print(dev.display_details())\n",
    "\n",
    "    # Admin subclass\n",
    "    admin = Admin(\"Abinesh\", 137, \"QA\")\n",
    "    print(admin.display_details())\n",
    "\n",
    "    # Operator overloading\n",
    "    emp1 = EmployeeWithOverload(\"Shashank\", 165, \"Analyst\")\n",
    "    emp2 = EmployeeWithOverload(\"Test User\", 200, \"Developer\")\n",
    "    print(f\"Combined Employee IDs: {emp1 + emp2}\")\n"
   ]
  },
  {
   "cell_type": "code",
   "execution_count": null,
   "id": "21008e1f",
   "metadata": {},
   "outputs": [],
   "source": []
  }
 ],
 "metadata": {
  "kernelspec": {
   "display_name": "Python 3 (ipykernel)",
   "language": "python",
   "name": "python3"
  },
  "language_info": {
   "codemirror_mode": {
    "name": "ipython",
    "version": 3
   },
   "file_extension": ".py",
   "mimetype": "text/x-python",
   "name": "python",
   "nbconvert_exporter": "python",
   "pygments_lexer": "ipython3",
   "version": "3.13.1"
  }
 },
 "nbformat": 4,
 "nbformat_minor": 5
}
